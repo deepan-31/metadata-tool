{
  "nbformat": 4,
  "nbformat_minor": 0,
  "metadata": {
    "colab": {
      "provenance": [],
      "authorship_tag": "ABX9TyM4y/AKtBR6KYCMzhBU0+Wi",
      "include_colab_link": true
    },
    "kernelspec": {
      "name": "python3",
      "display_name": "Python 3"
    },
    "language_info": {
      "name": "python"
    }
  },
  "cells": [
    {
      "cell_type": "markdown",
      "metadata": {
        "id": "view-in-github",
        "colab_type": "text"
      },
      "source": [
        "<a href=\"https://colab.research.google.com/github/deepan-31/metadata-tool/blob/main/recurrentneuralnetwork.ipynb\" target=\"_parent\"><img src=\"https://colab.research.google.com/assets/colab-badge.svg\" alt=\"Open In Colab\"/></a>"
      ]
    },
    {
      "cell_type": "code",
      "source": [
        "!pip3 install ann_visualizer"
      ],
      "metadata": {
        "colab": {
          "base_uri": "https://localhost:8080/"
        },
        "id": "sg1AyUH8VG5k",
        "outputId": "39cb7164-133c-4474-f8f4-1845492f7cfe"
      },
      "execution_count": null,
      "outputs": [
        {
          "output_type": "stream",
          "name": "stdout",
          "text": [
            "Looking in indexes: https://pypi.org/simple, https://us-python.pkg.dev/colab-wheels/public/simple/\n",
            "Requirement already satisfied: ann_visualizer in /usr/local/lib/python3.9/dist-packages (2.5)\n"
          ]
        }
      ]
    },
    {
      "cell_type": "code",
      "execution_count": null,
      "metadata": {
        "id": "y_tYo_mlQJmR"
      },
      "outputs": [],
      "source": [
        "import pandas as pd\n",
        "import numpy as np\n",
        "import matplotlib.pyplot as plt\n",
        "from keras.models import Sequential\n",
        "from keras.layers import Dense, SimpleRNN\n",
        "from ann_visualizer.visualize import ann_viz\n",
        "from graphviz import Source"
      ]
    },
    {
      "cell_type": "code",
      "source": [
        "N = 1000\n",
        "Tp = 800\n",
        "\n",
        "t=np.arange(0,N)\n",
        "x = np.sin(0.02*t)+2*np.random.rand(N)\n",
        "df= pd.DataFrame(x)\n",
        "df.head()"
      ],
      "metadata": {
        "colab": {
          "base_uri": "https://localhost:8080/",
          "height": 206
        },
        "id": "XCZgpYyOQaG-",
        "outputId": "9bcbf734-6098-4339-932a-383ae0d30909"
      },
      "execution_count": null,
      "outputs": [
        {
          "output_type": "execute_result",
          "data": {
            "text/plain": [
              "          0\n",
              "0  0.433274\n",
              "1  1.730161\n",
              "2  2.009434\n",
              "3  0.480856\n",
              "4  0.804674"
            ],
            "text/html": [
              "\n",
              "  <div id=\"df-136625a0-a3a4-4d7f-9077-676554ccaebd\">\n",
              "    <div class=\"colab-df-container\">\n",
              "      <div>\n",
              "<style scoped>\n",
              "    .dataframe tbody tr th:only-of-type {\n",
              "        vertical-align: middle;\n",
              "    }\n",
              "\n",
              "    .dataframe tbody tr th {\n",
              "        vertical-align: top;\n",
              "    }\n",
              "\n",
              "    .dataframe thead th {\n",
              "        text-align: right;\n",
              "    }\n",
              "</style>\n",
              "<table border=\"1\" class=\"dataframe\">\n",
              "  <thead>\n",
              "    <tr style=\"text-align: right;\">\n",
              "      <th></th>\n",
              "      <th>0</th>\n",
              "    </tr>\n",
              "  </thead>\n",
              "  <tbody>\n",
              "    <tr>\n",
              "      <th>0</th>\n",
              "      <td>0.433274</td>\n",
              "    </tr>\n",
              "    <tr>\n",
              "      <th>1</th>\n",
              "      <td>1.730161</td>\n",
              "    </tr>\n",
              "    <tr>\n",
              "      <th>2</th>\n",
              "      <td>2.009434</td>\n",
              "    </tr>\n",
              "    <tr>\n",
              "      <th>3</th>\n",
              "      <td>0.480856</td>\n",
              "    </tr>\n",
              "    <tr>\n",
              "      <th>4</th>\n",
              "      <td>0.804674</td>\n",
              "    </tr>\n",
              "  </tbody>\n",
              "</table>\n",
              "</div>\n",
              "      <button class=\"colab-df-convert\" onclick=\"convertToInteractive('df-136625a0-a3a4-4d7f-9077-676554ccaebd')\"\n",
              "              title=\"Convert this dataframe to an interactive table.\"\n",
              "              style=\"display:none;\">\n",
              "        \n",
              "  <svg xmlns=\"http://www.w3.org/2000/svg\" height=\"24px\"viewBox=\"0 0 24 24\"\n",
              "       width=\"24px\">\n",
              "    <path d=\"M0 0h24v24H0V0z\" fill=\"none\"/>\n",
              "    <path d=\"M18.56 5.44l.94 2.06.94-2.06 2.06-.94-2.06-.94-.94-2.06-.94 2.06-2.06.94zm-11 1L8.5 8.5l.94-2.06 2.06-.94-2.06-.94L8.5 2.5l-.94 2.06-2.06.94zm10 10l.94 2.06.94-2.06 2.06-.94-2.06-.94-.94-2.06-.94 2.06-2.06.94z\"/><path d=\"M17.41 7.96l-1.37-1.37c-.4-.4-.92-.59-1.43-.59-.52 0-1.04.2-1.43.59L10.3 9.45l-7.72 7.72c-.78.78-.78 2.05 0 2.83L4 21.41c.39.39.9.59 1.41.59.51 0 1.02-.2 1.41-.59l7.78-7.78 2.81-2.81c.8-.78.8-2.07 0-2.86zM5.41 20L4 18.59l7.72-7.72 1.47 1.35L5.41 20z\"/>\n",
              "  </svg>\n",
              "      </button>\n",
              "      \n",
              "  <style>\n",
              "    .colab-df-container {\n",
              "      display:flex;\n",
              "      flex-wrap:wrap;\n",
              "      gap: 12px;\n",
              "    }\n",
              "\n",
              "    .colab-df-convert {\n",
              "      background-color: #E8F0FE;\n",
              "      border: none;\n",
              "      border-radius: 50%;\n",
              "      cursor: pointer;\n",
              "      display: none;\n",
              "      fill: #1967D2;\n",
              "      height: 32px;\n",
              "      padding: 0 0 0 0;\n",
              "      width: 32px;\n",
              "    }\n",
              "\n",
              "    .colab-df-convert:hover {\n",
              "      background-color: #E2EBFA;\n",
              "      box-shadow: 0px 1px 2px rgba(60, 64, 67, 0.3), 0px 1px 3px 1px rgba(60, 64, 67, 0.15);\n",
              "      fill: #174EA6;\n",
              "    }\n",
              "\n",
              "    [theme=dark] .colab-df-convert {\n",
              "      background-color: #3B4455;\n",
              "      fill: #D2E3FC;\n",
              "    }\n",
              "\n",
              "    [theme=dark] .colab-df-convert:hover {\n",
              "      background-color: #434B5C;\n",
              "      box-shadow: 0px 1px 3px 1px rgba(0, 0, 0, 0.15);\n",
              "      filter: drop-shadow(0px 1px 2px rgba(0, 0, 0, 0.3));\n",
              "      fill: #FFFFFF;\n",
              "    }\n",
              "  </style>\n",
              "\n",
              "      <script>\n",
              "        const buttonEl =\n",
              "          document.querySelector('#df-136625a0-a3a4-4d7f-9077-676554ccaebd button.colab-df-convert');\n",
              "        buttonEl.style.display =\n",
              "          google.colab.kernel.accessAllowed ? 'block' : 'none';\n",
              "\n",
              "        async function convertToInteractive(key) {\n",
              "          const element = document.querySelector('#df-136625a0-a3a4-4d7f-9077-676554ccaebd');\n",
              "          const dataTable =\n",
              "            await google.colab.kernel.invokeFunction('convertToInteractive',\n",
              "                                                     [key], {});\n",
              "          if (!dataTable) return;\n",
              "\n",
              "          const docLinkHtml = 'Like what you see? Visit the ' +\n",
              "            '<a target=\"_blank\" href=https://colab.research.google.com/notebooks/data_table.ipynb>data table notebook</a>'\n",
              "            + ' to learn more about interactive tables.';\n",
              "          element.innerHTML = '';\n",
              "          dataTable['output_type'] = 'display_data';\n",
              "          await google.colab.output.renderOutput(dataTable, element);\n",
              "          const docLink = document.createElement('div');\n",
              "          docLink.innerHTML = docLinkHtml;\n",
              "          element.appendChild(docLink);\n",
              "        }\n",
              "      </script>\n",
              "    </div>\n",
              "  </div>\n",
              "  "
            ]
          },
          "metadata": {},
          "execution_count": 29
        }
      ]
    },
    {
      "cell_type": "code",
      "source": [
        "plt.plot(df)\n",
        "plt.show()"
      ],
      "metadata": {
        "colab": {
          "base_uri": "https://localhost:8080/",
          "height": 265
        },
        "id": "f-qhTPoBQ5cj",
        "outputId": "e12ff0d3-f8ae-41f9-8188-b31bf1b949a7"
      },
      "execution_count": null,
      "outputs": [
        {
          "output_type": "display_data",
          "data": {
            "text/plain": [
              "<Figure size 432x288 with 1 Axes>"
            ],
            "image/png": "[encoded data removed]"
          },
          "metadata": {
            "needs_background": "light"
          }
        }
      ]
    },
    {
      "cell_type": "code",
      "source": [
        "values=df.values\n",
        "train,test = values[0:Tp,:] ,values[Tp:N,:]"
      ],
      "metadata": {
        "id": "d4_1cXWHQ8BS"
      },
      "execution_count": null,
      "outputs": []
    },
    {
      "cell_type": "code",
      "source": [
        "step=4\n",
        "\n",
        "test=np.append(test,np.repeat(test[-1,],step))\n",
        "train=np.append(train,np.repeat(train[-1,],step))"
      ],
      "metadata": {
        "id": "KLeV7NwXRJc0"
      },
      "execution_count": null,
      "outputs": []
    },
    {
      "cell_type": "code",
      "source": [
        "def convertToMatrix(data, step):\n",
        "  X,Y=[],[]\n",
        "  for i in range(len(data)-step):\n",
        "    d=i+step\n",
        "    X.append(data[i:d,])\n",
        "    Y.append(data[d,])\n",
        "  return np.array(X),np.array(Y)"
      ],
      "metadata": {
        "id": "FmYj_kweRj5C"
      },
      "execution_count": null,
      "outputs": []
    },
    {
      "cell_type": "code",
      "source": [
        "trainX,trainY = convertToMatrix(train,step)\n",
        "testX,testY = convertToMatrix(test,step)"
      ],
      "metadata": {
        "id": "LJ9favANR7bq"
      },
      "execution_count": null,
      "outputs": []
    },
    {
      "cell_type": "code",
      "source": [
        "trainX = np.reshape(trainX,(trainX.shape[0],1,trainX.shape[1]))\n",
        "testX = np.reshape(testX,(testX.shape[0],1,testX.shape[1]))"
      ],
      "metadata": {
        "id": "bDzIvbcxSG2i"
      },
      "execution_count": null,
      "outputs": []
    },
    {
      "cell_type": "code",
      "source": [
        "model = Sequential()\n",
        "model.add(SimpleRNN(units=32,input_shape=(1,step),activation=\"relu\"))\n",
        "model.add(Dense(8,activation=\"relu\"))\n",
        "model.add(Dense(1))\n",
        "model.compile(loss='mean_squared_error',optimizer='rmsprop')\n",
        "model.summary()"
      ],
      "metadata": {
        "colab": {
          "base_uri": "https://localhost:8080/"
        },
        "id": "E43BISO4Se3R",
        "outputId": "ea6e84e9-81be-4163-f12a-c344b76d94be"
      },
      "execution_count": null,
      "outputs": [
        {
          "output_type": "stream",
          "name": "stdout",
          "text": [
            "Model: \"sequential_1\"\n",
            "_________________________________________________________________\n",
            " Layer (type)                Output Shape              Param #   \n",
            "=================================================================\n",
            " simple_rnn_1 (SimpleRNN)    (None, 32)                1184      \n",
            "                                                                 \n",
            " dense_2 (Dense)             (None, 8)                 264       \n",
            "                                                                 \n",
            " dense_3 (Dense)             (None, 1)                 9         \n",
            "                                                                 \n",
            "=================================================================\n",
            "Total params: 1,457\n",
            "Trainable params: 1,457\n",
            "Non-trainable params: 0\n",
            "_________________________________________________________________\n"
          ]
        }
      ]
    },
    {
      "cell_type": "code",
      "source": [
        "model.fit(trainX,trainY,epochs=100,batch_size=16,verbose=2)\n",
        "trainPredict = model.predict(trainX)\n",
        "testPredict = model.predict(testX)\n",
        "predicted=np.concatenate((trainPredict,testPredict),axis=0)"
      ],
      "metadata": {
        "colab": {
          "base_uri": "https://localhost:8080/"
        },
        "id": "gXPkYnEnS7GO",
        "outputId": "a01b23a2-9ddd-4e95-96b1-96699c45c232"
      },
      "execution_count": null,
      "outputs": [
        {
          "output_type": "stream",
          "name": "stdout",
          "text": [
            "Epoch 1/100\n",
            "50/50 - 3s - loss: 0.7688 - 3s/epoch - 52ms/step\n",
            "Epoch 2/100\n",
            "50/50 - 0s - loss: 0.4157 - 156ms/epoch - 3ms/step\n",
            "Epoch 3/100\n",
            "50/50 - 0s - loss: 0.4051 - 134ms/epoch - 3ms/step\n",
            "Epoch 4/100\n",
            "50/50 - 0s - loss: 0.4032 - 141ms/epoch - 3ms/step\n",
            "Epoch 5/100\n",
            "50/50 - 0s - loss: 0.4003 - 130ms/epoch - 3ms/step\n",
            "Epoch 6/100\n",
            "50/50 - 0s - loss: 0.3985 - 139ms/epoch - 3ms/step\n",
            "Epoch 7/100\n",
            "50/50 - 0s - loss: 0.3952 - 158ms/epoch - 3ms/step\n",
            "Epoch 8/100\n",
            "50/50 - 0s - loss: 0.3992 - 168ms/epoch - 3ms/step\n",
            "Epoch 9/100\n",
            "50/50 - 0s - loss: 0.3946 - 155ms/epoch - 3ms/step\n",
            "Epoch 10/100\n",
            "50/50 - 0s - loss: 0.3932 - 158ms/epoch - 3ms/step\n",
            "Epoch 11/100\n",
            "50/50 - 0s - loss: 0.3921 - 103ms/epoch - 2ms/step\n",
            "Epoch 12/100\n",
            "50/50 - 0s - loss: 0.3931 - 100ms/epoch - 2ms/step\n",
            "Epoch 13/100\n",
            "50/50 - 0s - loss: 0.3881 - 91ms/epoch - 2ms/step\n",
            "Epoch 14/100\n",
            "50/50 - 0s - loss: 0.3924 - 96ms/epoch - 2ms/step\n",
            "Epoch 15/100\n",
            "50/50 - 0s - loss: 0.3913 - 103ms/epoch - 2ms/step\n",
            "Epoch 16/100\n",
            "50/50 - 0s - loss: 0.3888 - 89ms/epoch - 2ms/step\n",
            "Epoch 17/100\n",
            "50/50 - 0s - loss: 0.3893 - 94ms/epoch - 2ms/step\n",
            "Epoch 18/100\n",
            "50/50 - 0s - loss: 0.3888 - 98ms/epoch - 2ms/step\n",
            "Epoch 19/100\n",
            "50/50 - 0s - loss: 0.3861 - 96ms/epoch - 2ms/step\n",
            "Epoch 20/100\n",
            "50/50 - 0s - loss: 0.3885 - 89ms/epoch - 2ms/step\n",
            "Epoch 21/100\n",
            "50/50 - 0s - loss: 0.3863 - 100ms/epoch - 2ms/step\n",
            "Epoch 22/100\n",
            "50/50 - 0s - loss: 0.3870 - 100ms/epoch - 2ms/step\n",
            "Epoch 23/100\n",
            "50/50 - 0s - loss: 0.3829 - 92ms/epoch - 2ms/step\n",
            "Epoch 24/100\n",
            "50/50 - 0s - loss: 0.3859 - 90ms/epoch - 2ms/step\n",
            "Epoch 25/100\n",
            "50/50 - 0s - loss: 0.3865 - 97ms/epoch - 2ms/step\n",
            "Epoch 26/100\n",
            "50/50 - 0s - loss: 0.3841 - 103ms/epoch - 2ms/step\n",
            "Epoch 27/100\n",
            "50/50 - 0s - loss: 0.3828 - 102ms/epoch - 2ms/step\n",
            "Epoch 28/100\n",
            "50/50 - 0s - loss: 0.3834 - 102ms/epoch - 2ms/step\n",
            "Epoch 29/100\n",
            "50/50 - 0s - loss: 0.3823 - 91ms/epoch - 2ms/step\n",
            "Epoch 30/100\n",
            "50/50 - 0s - loss: 0.3822 - 99ms/epoch - 2ms/step\n",
            "Epoch 31/100\n",
            "50/50 - 0s - loss: 0.3823 - 113ms/epoch - 2ms/step\n",
            "Epoch 32/100\n",
            "50/50 - 0s - loss: 0.3813 - 96ms/epoch - 2ms/step\n",
            "Epoch 33/100\n",
            "50/50 - 0s - loss: 0.3819 - 96ms/epoch - 2ms/step\n",
            "Epoch 34/100\n",
            "50/50 - 0s - loss: 0.3793 - 95ms/epoch - 2ms/step\n",
            "Epoch 35/100\n",
            "50/50 - 0s - loss: 0.3792 - 99ms/epoch - 2ms/step\n",
            "Epoch 36/100\n",
            "50/50 - 0s - loss: 0.3774 - 87ms/epoch - 2ms/step\n",
            "Epoch 37/100\n",
            "50/50 - 0s - loss: 0.3781 - 110ms/epoch - 2ms/step\n",
            "Epoch 38/100\n",
            "50/50 - 0s - loss: 0.3790 - 103ms/epoch - 2ms/step\n",
            "Epoch 39/100\n",
            "50/50 - 0s - loss: 0.3792 - 100ms/epoch - 2ms/step\n",
            "Epoch 40/100\n",
            "50/50 - 0s - loss: 0.3787 - 90ms/epoch - 2ms/step\n",
            "Epoch 41/100\n",
            "50/50 - 0s - loss: 0.3794 - 102ms/epoch - 2ms/step\n",
            "Epoch 42/100\n",
            "50/50 - 0s - loss: 0.3759 - 91ms/epoch - 2ms/step\n",
            "Epoch 43/100\n",
            "50/50 - 0s - loss: 0.3788 - 98ms/epoch - 2ms/step\n",
            "Epoch 44/100\n",
            "50/50 - 0s - loss: 0.3763 - 88ms/epoch - 2ms/step\n",
            "Epoch 45/100\n",
            "50/50 - 0s - loss: 0.3775 - 105ms/epoch - 2ms/step\n",
            "Epoch 46/100\n",
            "50/50 - 0s - loss: 0.3761 - 105ms/epoch - 2ms/step\n",
            "Epoch 47/100\n",
            "50/50 - 0s - loss: 0.3748 - 94ms/epoch - 2ms/step\n",
            "Epoch 48/100\n",
            "50/50 - 0s - loss: 0.3761 - 92ms/epoch - 2ms/step\n",
            "Epoch 49/100\n",
            "50/50 - 0s - loss: 0.3745 - 97ms/epoch - 2ms/step\n",
            "Epoch 50/100\n",
            "50/50 - 0s - loss: 0.3746 - 93ms/epoch - 2ms/step\n",
            "Epoch 51/100\n",
            "50/50 - 0s - loss: 0.3714 - 107ms/epoch - 2ms/step\n",
            "Epoch 52/100\n",
            "50/50 - 0s - loss: 0.3732 - 90ms/epoch - 2ms/step\n",
            "Epoch 53/100\n",
            "50/50 - 0s - loss: 0.3740 - 88ms/epoch - 2ms/step\n",
            "Epoch 54/100\n",
            "50/50 - 0s - loss: 0.3720 - 93ms/epoch - 2ms/step\n",
            "Epoch 55/100\n",
            "50/50 - 0s - loss: 0.3758 - 94ms/epoch - 2ms/step\n",
            "Epoch 56/100\n",
            "50/50 - 0s - loss: 0.3718 - 91ms/epoch - 2ms/step\n",
            "Epoch 57/100\n",
            "50/50 - 0s - loss: 0.3719 - 94ms/epoch - 2ms/step\n",
            "Epoch 58/100\n",
            "50/50 - 0s - loss: 0.3721 - 96ms/epoch - 2ms/step\n",
            "Epoch 59/100\n",
            "50/50 - 0s - loss: 0.3712 - 89ms/epoch - 2ms/step\n",
            "Epoch 60/100\n",
            "50/50 - 0s - loss: 0.3724 - 97ms/epoch - 2ms/step\n",
            "Epoch 61/100\n",
            "50/50 - 0s - loss: 0.3704 - 94ms/epoch - 2ms/step\n",
            "Epoch 62/100\n",
            "50/50 - 0s - loss: 0.3683 - 104ms/epoch - 2ms/step\n",
            "Epoch 63/100\n",
            "50/50 - 0s - loss: 0.3723 - 88ms/epoch - 2ms/step\n",
            "Epoch 64/100\n",
            "50/50 - 0s - loss: 0.3695 - 94ms/epoch - 2ms/step\n",
            "Epoch 65/100\n",
            "50/50 - 0s - loss: 0.3683 - 93ms/epoch - 2ms/step\n",
            "Epoch 66/100\n",
            "50/50 - 0s - loss: 0.3702 - 98ms/epoch - 2ms/step\n",
            "Epoch 67/100\n",
            "50/50 - 0s - loss: 0.3684 - 96ms/epoch - 2ms/step\n",
            "Epoch 68/100\n",
            "50/50 - 0s - loss: 0.3676 - 97ms/epoch - 2ms/step\n",
            "Epoch 69/100\n",
            "50/50 - 0s - loss: 0.3656 - 97ms/epoch - 2ms/step\n",
            "Epoch 70/100\n",
            "50/50 - 0s - loss: 0.3669 - 95ms/epoch - 2ms/step\n",
            "Epoch 71/100\n",
            "50/50 - 0s - loss: 0.3682 - 102ms/epoch - 2ms/step\n",
            "Epoch 72/100\n",
            "50/50 - 0s - loss: 0.3682 - 117ms/epoch - 2ms/step\n",
            "Epoch 73/100\n",
            "50/50 - 0s - loss: 0.3660 - 94ms/epoch - 2ms/step\n",
            "Epoch 74/100\n",
            "50/50 - 0s - loss: 0.3662 - 93ms/epoch - 2ms/step\n",
            "Epoch 75/100\n",
            "50/50 - 0s - loss: 0.3675 - 99ms/epoch - 2ms/step\n",
            "Epoch 76/100\n",
            "50/50 - 0s - loss: 0.3683 - 96ms/epoch - 2ms/step\n",
            "Epoch 77/100\n",
            "50/50 - 0s - loss: 0.3651 - 97ms/epoch - 2ms/step\n",
            "Epoch 78/100\n",
            "50/50 - 0s - loss: 0.3649 - 107ms/epoch - 2ms/step\n",
            "Epoch 79/100\n",
            "50/50 - 0s - loss: 0.3649 - 97ms/epoch - 2ms/step\n",
            "Epoch 80/100\n",
            "50/50 - 0s - loss: 0.3668 - 103ms/epoch - 2ms/step\n",
            "Epoch 81/100\n",
            "50/50 - 0s - loss: 0.3621 - 106ms/epoch - 2ms/step\n",
            "Epoch 82/100\n",
            "50/50 - 0s - loss: 0.3661 - 97ms/epoch - 2ms/step\n",
            "Epoch 83/100\n",
            "50/50 - 0s - loss: 0.3601 - 87ms/epoch - 2ms/step\n",
            "Epoch 84/100\n",
            "50/50 - 0s - loss: 0.3637 - 95ms/epoch - 2ms/step\n",
            "Epoch 85/100\n",
            "50/50 - 0s - loss: 0.3630 - 102ms/epoch - 2ms/step\n",
            "Epoch 86/100\n",
            "50/50 - 0s - loss: 0.3640 - 90ms/epoch - 2ms/step\n",
            "Epoch 87/100\n",
            "50/50 - 0s - loss: 0.3636 - 96ms/epoch - 2ms/step\n",
            "Epoch 88/100\n",
            "50/50 - 0s - loss: 0.3618 - 88ms/epoch - 2ms/step\n",
            "Epoch 89/100\n",
            "50/50 - 0s - loss: 0.3642 - 87ms/epoch - 2ms/step\n",
            "Epoch 90/100\n",
            "50/50 - 0s - loss: 0.3626 - 94ms/epoch - 2ms/step\n",
            "Epoch 91/100\n",
            "50/50 - 0s - loss: 0.3630 - 90ms/epoch - 2ms/step\n",
            "Epoch 92/100\n",
            "50/50 - 0s - loss: 0.3630 - 98ms/epoch - 2ms/step\n",
            "Epoch 93/100\n",
            "50/50 - 0s - loss: 0.3613 - 91ms/epoch - 2ms/step\n",
            "Epoch 94/100\n",
            "50/50 - 0s - loss: 0.3606 - 94ms/epoch - 2ms/step\n",
            "Epoch 95/100\n",
            "50/50 - 0s - loss: 0.3617 - 92ms/epoch - 2ms/step\n",
            "Epoch 96/100\n",
            "50/50 - 0s - loss: 0.3621 - 97ms/epoch - 2ms/step\n",
            "Epoch 97/100\n",
            "50/50 - 0s - loss: 0.3587 - 108ms/epoch - 2ms/step\n",
            "Epoch 98/100\n",
            "50/50 - 0s - loss: 0.3605 - 87ms/epoch - 2ms/step\n",
            "Epoch 99/100\n",
            "50/50 - 0s - loss: 0.3568 - 84ms/epoch - 2ms/step\n",
            "Epoch 100/100\n",
            "50/50 - 0s - loss: 0.3600 - 86ms/epoch - 2ms/step\n",
            "25/25 [==============================] - 0s 2ms/step\n",
            "7/7 [==============================] - 0s 2ms/step\n"
          ]
        }
      ]
    },
    {
      "cell_type": "code",
      "source": [
        "trainScore = model.evaluate(trainX,trainY,verbose=0)\n",
        "print(trainScore)"
      ],
      "metadata": {
        "colab": {
          "base_uri": "https://localhost:8080/"
        },
        "id": "QVSd7gChTRyI",
        "outputId": "baab4bdb-6c4a-414c-e93c-fe9564687fdb"
      },
      "execution_count": null,
      "outputs": [
        {
          "output_type": "stream",
          "name": "stdout",
          "text": [
            "1.814795732498169\n"
          ]
        }
      ]
    },
    {
      "cell_type": "code",
      "source": [
        "from keras.utils.vis_utils import plot_model\n",
        "plot_model(model, to_file='model_plot.png', show_shapes=True, show_layer_names=True)"
      ],
      "metadata": {
        "colab": {
          "base_uri": "https://localhost:8080/",
          "height": 422
        },
        "id": "bKIGiERuTh6J",
        "outputId": "b88752c6-2925-438f-eb99-706f782fc3f2"
      },
      "execution_count": null,
      "outputs": [
        {
          "output_type": "execute_result",
          "data": {
            "image/png": "[encoded data removed]",
            "text/plain": [
              "<IPython.core.display.Image object>"
            ]
          },
          "metadata": {},
          "execution_count": 38
        }
      ]
    },
    {
      "cell_type": "code",
      "source": [],
      "metadata": {
        "id": "YuqIG__BYt6n"
      },
      "execution_count": null,
      "outputs": []
    }
  ]
}